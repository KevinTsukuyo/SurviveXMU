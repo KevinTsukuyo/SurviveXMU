{
 "cells": [
  {
   "cell_type": "markdown",
   "id": "d534cfc5",
   "metadata": {},
   "source": [
    "<h1>\n",
    "    研究生留学申请指南\n",
    "</h1>"
   ]
  },
  {
   "cell_type": "markdown",
   "id": "1886b995",
   "metadata": {},
   "source": [
    "<h2>\n",
    "    Contents\n",
    "</h2>\n",
    "\n",
    "<pre>\n",
    "    选择方向\n",
    "    \n",
    "    时间安排\n",
    "\n",
    "    定校/定项目\n",
    "    \n",
    "    材料准备\n",
    "    \n",
    "    找中介吗？\n",
    "    \n",
    "    Citations\n",
    "    \n",
    "<pre>"
   ]
  },
  {
   "cell_type": "markdown",
   "id": "aedef1f3",
   "metadata": {},
   "source": [
    "<b>选择方向</b>"
   ]
  },
  {
   "cell_type": "markdown",
   "id": "cc53d4a1",
   "metadata": {},
   "source": [
    "<pre>\n",
    "    对于出国党来说，绩点、课外活动（广义的，包括科研和实习）以及最后的简历包装都是同等重要的，这是因为保研和考研只是和在国内卷，出国是和全世界的卷皇一起卷（当然捐楼的情况不在此列，捐楼更多是跟无良地产商博弈），而我们永远不知道申请官会因为什么原因捞我们/拒我们，所以我们只能选择在能够承受的范围之内做到最好。我特别喜欢<I>Principle of Economics</I>里面的一条：People face trade-off.我们也得在<b>留学</b>、<b>保研</b>、<b>考研</b>、<b>就业</b>几个方向之间做出权衡取舍。\n",
    "    \n",
    "    <details>\n",
    "        <summary markdown = \"span\"><b>留学</b></summary>\n",
    "    留学是这几个方案之中投入最多，产出也最多的。我们需要放弃很多娱乐的时间准备语言，同时如果我们要申请商科/工科的项目，需要大量的实习以及项目经历（最好有全职工作的经历），对于博士申请者来说，我们需要有足够的科研产出（论文以及相关科研项目）。此外，我们的标化成绩(GPA)也需要努力，一些热门项目（神仙项目more specifically）,申请者3.8的GPA + 五六段实习 + 3 or 4 majors（这里指的是美本允许的multiple主修，陆本叹息）+ 330+的GRE(总是有一些枪手在刷语言成绩的分，导致现在的GRE和TOEFL成绩大幅贬值，大佬们也需要更高的成绩才能证明自己)已经成为标配（详情请见<a href = \"https://mitsloan.mit.edu/sites/default/files/2021-03/MasterofBusinessAnalyticsEmploymentReport_2020_2021_0.pdf\">MIT Master of Business Analytics class profile</a>(成绩在第三页)），作为陆本只能疯狂地提升自己才能有一个不错的申请结果。\n",
    "    </details>\n",
    "    <details>\n",
    "        <summary markdown = \"span\"><b>保研</b></summary>\n",
    "    XMUer的保研流程大致为大三下递交材料给院校，大三下结束的小学期左右进行夏令营面试，之后得到offer/rej。然后在大四上刚开始时参与本院的推免遴选，同时得到【目标院校的offer+本院的推免资格】的XMUer可以成功保研。\n",
    "    关于夏令营：需要关注入营要求和报录比。入营一般看重【排名+绩点+推荐信+实习/科研/比赛+...】，但不同学校和专业侧重点不同，且每年的形势也会发生变化，建议参照目标院校上一年的要求进行准备。绩点需要从大一第一学期开始刷，如果等到大三再来拉绩点会比较困难。科研/实习/比赛也需要积极参与。在入营前，也最好进行专业课复习，以免面试时问到基础问题而自己忘记。最好不要只参加一个学校的夏令营，如果时间允许，多参加几个夏令营以免颗粒无收。这里附上北大物理的夏令营通知：<a href = \"https://www.phy.pku.edu.cn/info/1018/6671.htm\">2021年北京大学物理学院“物理学、天文学、大气科学、核科学与技术优秀大学生暑期夏令营”正式报名通知</a> 作为参考。可以重点关注自己目标院校研招网的信息。\n",
    "    关于拿到本校的推免资格：参照保研加分细则进行准备。虽然细则每年都会进行修订，但需要重点准备的东西基本不变，可以按照细则进行学习生涯的规划，不仅刷高GPA，也要多参与一些加分项目。\n",
    "        \n",
    "    </details>\n",
    "    <details>\n",
    "        <summary markdown = \"span\"><b>考研</b></summary>\n",
    "    考研主要是在大三集中发力，需要在一年时间以内完成对所准备科目的\n",
    "    </details>\n",
    "    <details>\n",
    "        <summary markdown = \"span\"><b>就业</b></summary>\n",
    "        \n",
    "    </details>\n",
    "<pre>"
   ]
  },
  {
   "cell_type": "markdown",
   "id": "50ae1498",
   "metadata": {},
   "source": [
    "<b>时间安排</b>"
   ]
  },
  {
   "cell_type": "markdown",
   "id": "69cb6f0e",
   "metadata": {},
   "source": [
    "<pre>\n",
    "    <details>\n",
    "        <summary markdown = \"span\"><b>大一</b></summary>\n",
    "    \n",
    "    大一的时候我们需要选好想去的大方向，同时应当选择想要申请什么样的项目(Ph.D/M.phill（后文称学术选手） or MS/Meng/MA（后文称打工选手）)，因为学术选手的申请更多需要科研产出的积累（论文、项目，etc.），而打工选手的申请更看重实习以及标化成绩(GPA、GRE、TOEFL)。\n",
    "    \n",
    "    对于后一个问题，我们可以问自己想去的是产业界（进厂打工，有更高的经济回报但可能做不了自己喜欢的事情，只能按照老板的节奏当KPI的舔狗）还是去学术界（进大学搞学术，可以按自己的节奏，做自己喜欢的研究，但是工资会低一些）\n",
    "    \n",
    "    同时我们需要观察一下想去方向的老师，对于学术选手这个尤为重要，因为我们申请以及选校的时候需要与这些老师进行套磁。\n",
    "    </details>\n",
    "    <details>\n",
    "        <summary markdown = \"span\"><b>大二</b></summary>\n",
    "    大二的时候学术选手应当着手自己申请方向的项目，而打工选手可以考虑假期去公司实习。实习公司的选择criteria如下:\n",
    "    \n",
    "          <I>Revelant big name > Revelant normal > Irrevelant big name >  Irrevelant normal</I>\n",
    "    \n",
    "    这里所说的big name不只是跨国公司，一些很厉害的国内公司(i.e.字节跳动)以及独角兽(i.e.丁香园)都可以纳入这一范畴。同时我们也可以着手准备自己的托福成绩，争取大二下搞定托福。\n",
    "    \n",
    "    第一段实习的公司没有必要选择太大的公司。主要是做出一定的成果（简历实习那部分不能只有名字而是要有完成的项目）\n",
    "    \n",
    "    </details>\n",
    "        <details>\n",
    "        <summary markdown = \"span\"><b>大三</b></summary>\n",
    "    这一时期学术选手的应当已经有了一定的科研成果，可以考虑发表论文、参加会议。而MS/MA选手请继续卷实习！\n",
    "    \n",
    "    我们在大三上学期应当准备好标化考试成绩，包括TOEFL、GRE和GRE sub(如果有的话)。\n",
    "    \n",
    "    同时，我们需要在申请季开始之前确定自己申请的项目。这样我们在写作文书的时候才不至于很慌乱。同时，Ph.D/M.phil选手也可以在大三下学期尽可能与喜欢的导师联系，这样可以确保我们做的课题是喜欢的，同时也可以增加被喜欢的组发offer的概率。\n",
    "    </details>\n",
    "        <details>\n",
    "        <summary markdown = \"span\"><b>整个阶段（拿offer之前）</b></summary>\n",
    "    <b>卷绩点、整理简历、参加各种相关的比赛</b>: 对于最顶级的简历来说，上面应该有4-5段实习（打工选手）或者一两篇论文（学术选手）。拿奖的比赛经历越多越好，绩点越高越好，但是绩点不需要太高而放弃其它实习和科研，绩点只是招生委员会评判你的一个标准，切莫抓芝麻丢西瓜。\n",
    "   \n",
    "    <b>Networking</b>: 这里的networking包括加入同年级的申请群（在一亩三分地、小红书、寄托天下以及针对商科选手的chasedream找群，加群之后方便避免信息不对称对我们的影响）,以及与老师的networking(和老师关系好方便以后要推荐信，同时给分也会相对高)，这里值得注意的是在期末给老师发感谢信，我有两门不能满绩的课在发了感谢信之后被硬生生捞上90。这里需要注意的是这只是一个相关关系，并不是因果关系，也许这个老师本身就喜欢捞人。\n",
    "    \n",
    "    </details>\n",
    "<pre>"
   ]
  },
  {
   "cell_type": "markdown",
   "id": "a1da239e",
   "metadata": {},
   "source": [
    "<b>定校/定项目</b>\n",
    "<pre>\n",
    "    <details>\n",
    "        <summary markdown = \"span\"><b>Signaling v.s. Human capital</b></summary>\n",
    "    这一问题是针对打工选手的。一些排名很高的学校会开一些质量并没有那么高的项目用收的学费养活其他项目。这样就导致疯狂卷进这些项目的打工选手没有办法在美国找到匹配其真实实力的工作。但是，这些项目带来的signaling在回国时参加校招时可以加很多分，因为国内的HR并不了解国外的学校，只能看排名。这里是一个关于排名问题的<a href = \"https://mp.weixin.qq.com/s/RopxTwBH71woTDuvcgarbQ\">例子</a>，各种榜单都存在主观性，因此最好的了解项目/学校的方法是去网上看在读生、校友的评论。但是如果要毕业直接回国的话可以依据榜单进行选校。\n",
    "    </details>\n",
    "    <details>\n",
    "        <summary markdown = \"span\"><b>Marginal effect of competition/peer</b></summary>\n",
    "    这一条同样是针对打工选手的，这里说的是卷的程度和卷的成果的关系。有的学校虽然牌子很大，但是招的学生也很多，这就会导致资源分配产生马太效应，也就是说强的人占有所有的资源而比较一般的人没有资源。比如说我在选校的时候有一个各种榜单排名前二十的学校（专业和学校都很好），但是因为与就读同学的交流过程中发现该项目的资源并不是很充足，而这一项目又有很多上海（尤其是复旦和上交）/加州的同学去，这就导致我在该项目与一家五百强大厂的合作项目中可能拿不到offer，这是因为这一项目需要报名之后筛选简历，而我的简历上面的实习比不过上海/加州的同学，这是因为我本科学校所在的城市（厦门）没有什么大厂，而上海/加州我所申请的方向的大厂很多。而我的想法又是在美国找到第一份全职工作（以后可能回国，顺利的话可能提前退休），同时在美国的全职工作中需要在读期间参与过field project/ internship(前文提到的筛选简历的项目)，所以我最后放弃了这个学校选择了另一个比较小众但是可以在就读期间参与更多实习（前面的学校地理位置实在太偏）的学校，同时从就读的学长姐的反馈看，后者也比前者好太多。此外，由于一些高考选校时残留观念的影响，我们可能会产生越厉害的人去越好的项目的错觉，实际上这只是一个错觉，国外的项目并没有单一维度的好坏之分，适合自己的才是最好的，详情请看<a href = \"https://www.1point3acres.com/bbs/thread-862037-1-1.html\">这里</a>，有的项目数据好看可能只是因为它只招大神，而这些大神即使不去这个项目也可以拿到很好的工作offer，与这些大神做同学，我们可能卷生卷死最后的结果还不如别人随便划划水。\n",
    "    </details>\n",
    "    <details>\n",
    "        <summary markdown = \"span\"><b>博士课程的设置</b></summary>\n",
    "    对于PhD，最重要的应该是研究方向和导师，但其课程设置和毕业要求同样不可忽视。可以在学校的网站上找到学院对学生的大致要求和必修课程，如果一个项目的课程设置能涵盖到本领域的大部分重要课程，对提高自己的水平+助力科研都是很不错的。\n",
    "    </details>\n",
    "<pre>"
   ]
  },
  {
   "cell_type": "markdown",
   "id": "7d362e31",
   "metadata": {},
   "source": [
    "<b>材料准备</b>\n",
    "<pre>\n",
    "    <details>\n",
    "        <summary markdown = \"span\"><b>推荐/Reference</b></summary>\n",
    "    我们在申请时一般需要两到三份推荐，这里的推荐对于打工选手来说是实习老板+学校老师，对于学术选手来说是科研的导师+学校的老师。推荐有特殊推荐、一般推荐两种，特殊推荐指某一位推荐人直接拨通招生委员会的电话/给招生委员会的熟人发邮件：“你收了这个孩子吧。”这种超强的推荐成功率极高，但只能用于非去不可的学校，不然如果收到offer然后拒绝的话推荐人和申请的学校都会有很大的不适。\n",
    "    \n",
    "    一般推荐指在招生委员会指定的链接中填写对申请者的评价以及上传推荐信。这样的推荐对我们的影响取决于推荐人的职务、与我们相处的时间以及具体评价这三个维度。\n",
    "    </details>\n",
    "    <details>\n",
    "        <summary markdown = \"span\"><b>文书</b></summary>\n",
    "    对于打工选手来说，需要完成的文书一般会在项目的页面有提示，也可以在网上找到往年的范本，具体情况需要具体分析。\n",
    "    \n",
    "    对于学术选手来说，文书一般分为Statement of Purpose/ Personal Statement以及Personal History Statement两类。Pesonal Statement里面需要写对于学校的贡献（它们为什么要录你）、研究/打工的经历、我们的职业规划以及我们为什么要去那个学校。对于Personal History Statement，我们需要写出我们为什么选择这样的职业(i.e. Lucassian Professor of Mathematics)、我们的一些课外活动(i.e.组建NPO，参与社会活动)。\n",
    "    </details>\n",
    "    <details>\n",
    "        <summary markdown = \"span\"><b>简历</b></summary>\n",
    "    简历上面一般要有教育（在哪个大学读书、上了啥课、GPA多少）、实习经历（在哪里打工（不包括做家教））、实践经历（course project、比赛）、课外活动(兴趣爱好、特长)以及其他几项。\n",
    "    </details>\n",
    "<pre>"
   ]
  },
  {
   "cell_type": "markdown",
   "id": "8dd8362d",
   "metadata": {},
   "source": [
    "<b>找中介吗？</b>\n",
    "<pre>\n",
    "    对于这个问题我的建议是可以利用中介的免费咨询，但是不建议花钱叫中介做。这样做的原因是中介也是肝due人，也会把我们的材料拖到很晚才做，程度也没有我们用心（毕竟我们只是KPI的一部分）。我身边的中介就有记错时间而差点弄错申请轮次，以及文书中出现Although...but...语病的案例。\n",
    "    具体如何咨询，请见<a href = \"https://survivesjtu.gitbook.io/survivesjtumanual/fang-tan-ji/untitled/jing-ti-chu-guo-zhong-jie\">上海交大生存手册</a>。\n",
    "<pre>"
   ]
  },
  {
   "cell_type": "markdown",
   "id": "65539ab7",
   "metadata": {},
   "source": [
    "<b>Citations</b>\n",
    "<pre>\n",
    "    1.https://mitsloan.mit.edu/sites/default/files/2021-03/MasterofBusinessAnalyticsEmploymentReport_2020_2021_0.pdf\n",
    "    2.https://mp.weixin.qq.com/s/RopxTwBH71woTDuvcgarbQ\n",
    "    3.https://survivesjtu.gitbook.io/survivesjtumanual/fang-tan-ji/untitled/jing-ti-chu-guo-zhong-jie\n",
    "<pre>"
   ]
  }
 ],
 "metadata": {
  "hide_input": false,
  "kernelspec": {
   "display_name": "Python 3",
   "language": "python",
   "name": "python3"
  },
  "language_info": {
   "codemirror_mode": {
    "name": "ipython",
    "version": 3
   },
   "file_extension": ".py",
   "mimetype": "text/x-python",
   "name": "python",
   "nbconvert_exporter": "python",
   "pygments_lexer": "ipython3",
   "version": "3.8.8"
  },
  "latex_envs": {
   "LaTeX_envs_menu_present": true,
   "autoclose": false,
   "autocomplete": true,
   "bibliofile": "biblio.bib",
   "cite_by": "apalike",
   "current_citInitial": 1,
   "eqLabelWithNumbers": true,
   "eqNumInitial": 1,
   "hotkeys": {
    "equation": "Ctrl-E",
    "itemize": "Ctrl-I"
   },
   "labels_anchors": false,
   "latex_user_defs": false,
   "report_style_numbering": false,
   "user_envs_cfg": false
  },
  "varInspector": {
   "cols": {
    "lenName": 16,
    "lenType": 16,
    "lenVar": 40
   },
   "kernels_config": {
    "python": {
     "delete_cmd_postfix": "",
     "delete_cmd_prefix": "del ",
     "library": "var_list.py",
     "varRefreshCmd": "print(var_dic_list())"
    },
    "r": {
     "delete_cmd_postfix": ") ",
     "delete_cmd_prefix": "rm(",
     "library": "var_list.r",
     "varRefreshCmd": "cat(var_dic_list()) "
    }
   },
   "types_to_exclude": [
    "module",
    "function",
    "builtin_function_or_method",
    "instance",
    "_Feature"
   ],
   "window_display": false
  }
 },
 "nbformat": 4,
 "nbformat_minor": 5
}
